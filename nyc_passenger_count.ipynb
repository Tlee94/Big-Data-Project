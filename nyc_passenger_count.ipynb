{
 "cells": [
  {
   "cell_type": "code",
   "execution_count": 1,
   "metadata": {},
   "outputs": [
    {
     "data": {
      "text/plain": [
       "<pyspark.context.SparkContext at 0x57b56a0>"
      ]
     },
     "execution_count": 1,
     "metadata": {},
     "output_type": "execute_result"
    }
   ],
   "source": [
    "sc"
   ]
  },
  {
   "cell_type": "code",
   "execution_count": 2,
   "metadata": {
    "collapsed": true
   },
   "outputs": [],
   "source": [
    "df = spark.read.csv('2016_Green_Taxi_Trip_Data.csv', \n",
    "                    header = True, \n",
    "                    inferSchema = True).cache()"
   ]
  },
  {
   "cell_type": "code",
   "execution_count": 3,
   "metadata": {},
   "outputs": [
    {
     "data": {
      "text/plain": [
       "[(0, ('VendorID', 'int')),\n",
       " (1, ('lpep_pickup_datetime', 'string')),\n",
       " (2, ('Lpep_dropoff_datetime', 'string')),\n",
       " (3, ('Store_and_fwd_flag', 'string')),\n",
       " (4, ('RateCodeID', 'int')),\n",
       " (5, ('Pickup_longitude', 'double')),\n",
       " (6, ('Pickup_latitude', 'double')),\n",
       " (7, ('Dropoff_longitude', 'double')),\n",
       " (8, ('Dropoff_latitude', 'double')),\n",
       " (9, ('Passenger_count', 'int')),\n",
       " (10, ('Trip_distance', 'double')),\n",
       " (11, ('Fare_amount', 'double')),\n",
       " (12, ('Extra', 'double')),\n",
       " (13, ('MTA_tax', 'double')),\n",
       " (14, ('Tip_amount', 'double')),\n",
       " (15, ('Tolls_amount', 'double')),\n",
       " (16, ('Ehail_fee', 'string')),\n",
       " (17, ('improvement_surcharge', 'double')),\n",
       " (18, ('Total_amount', 'double')),\n",
       " (19, ('Payment_type', 'int')),\n",
       " (20, ('Trip_type ', 'int')),\n",
       " (21, ('PULocationID', 'int')),\n",
       " (22, ('DOLocationID', 'int'))]"
      ]
     },
     "execution_count": 3,
     "metadata": {},
     "output_type": "execute_result"
    }
   ],
   "source": [
    "list(enumerate(df.dtypes))"
   ]
  },
  {
   "cell_type": "code",
   "execution_count": 5,
   "metadata": {},
   "outputs": [
    {
     "name": "stdout",
     "output_type": "stream",
     "text": [
      "+---------------+--------+\n",
      "|Passenger_count|   count|\n",
      "+---------------+--------+\n",
      "|              1|13838473|\n",
      "|              2| 1251744|\n",
      "|              3|  353593|\n",
      "|              4|  109868|\n",
      "|              5|  564322|\n",
      "|              6|  262247|\n",
      "|              7|     404|\n",
      "|              8|     391|\n",
      "|              9|     115|\n",
      "+---------------+--------+\n",
      "\n"
     ]
    }
   ],
   "source": [
    "dfPassenger = df.groupBy('`Passenger_count`').count()\n",
    "dfPassenger = dfPassenger.sort('Passenger_count', ascending=True)\n",
    "dfPassenger = dfPassenger.filter(dfPassenger.Passenger_count > 0)\n",
    "#dfPassenger.select('Passenger_count').show(10)\n",
    "#dfPassenger = dfPassenger.sort('Passenger_count', ascending=True)\n",
    "dfPassenger.show()\n",
    "#type(dfPassenger)"
   ]
  },
  {
   "cell_type": "code",
   "execution_count": 6,
   "metadata": {},
   "outputs": [
    {
     "data": {
      "image/png": "[encoded data removed]",
      "text/plain": [
       "<matplotlib.figure.Figure at 0x64e02b0>"
      ]
     },
     "metadata": {},
     "output_type": "display_data"
    }
   ],
   "source": [
    "import matplotlib.pyplot as plt\n",
    "\n",
    "l = [(1,13838473), (2,1251744), (3,353593 ), (4,109868 ), (5,564322 ), (6,262247 ), (7,404 ),(8,391 ),(9,115 )]\n",
    "\n",
    "total = 0\n",
    "\n",
    "for i in l:\n",
    "    total += i[1]\n",
    "\n",
    "total\n",
    "\n",
    "x = [i[0] for i in l]\n",
    "y = [float(i[1])/float(total) * 100 for i in l]\n",
    "\n",
    "plt.title(\"Passenger Count %\")\n",
    "plt.xlabel(\"Passenger Counts\", fontsize = 16)\n",
    "plt.ylabel(\"%\", fontsize = 16)\n",
    "plt.bar(x,y)\n",
    "plt.show()"
   ]
  },
  {
   "cell_type": "code",
   "execution_count": null,
   "metadata": {
    "collapsed": true
   },
   "outputs": [],
   "source": []
  }
 ],
 "metadata": {
  "kernelspec": {
   "display_name": "Python 2",
   "language": "python",
   "name": "python2"
  },
  "language_info": {
   "codemirror_mode": {
    "name": "ipython",
    "version": 2
   },
   "file_extension": ".py",
   "mimetype": "text/x-python",
   "name": "python",
   "nbconvert_exporter": "python",
   "pygments_lexer": "ipython2",
   "version": "2.7.14"
  }
 },
 "nbformat": 4,
 "nbformat_minor": 2
}
