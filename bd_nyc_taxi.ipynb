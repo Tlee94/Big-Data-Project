{
 "cells": [
  {
   "cell_type": "code",
   "execution_count": 1,
   "metadata": {},
   "outputs": [
    {
     "data": {
      "text/plain": [
       "<pyspark.context.SparkContext at 0x22c7fd92da0>"
      ]
     },
     "execution_count": 1,
     "metadata": {},
     "output_type": "execute_result"
    }
   ],
   "source": [
    "sc"
   ]
  },
  {
   "cell_type": "code",
   "execution_count": 2,
   "metadata": {
    "collapsed": true
   },
   "outputs": [],
   "source": [
    "nyc = sc.textFile('2016_Green_Taxi_Trip_Data.csv')"
   ]
  },
  {
   "cell_type": "code",
   "execution_count": 4,
   "metadata": {},
   "outputs": [
    {
     "data": {
      "text/plain": [
       "['VendorID,lpep_pickup_datetime,Lpep_dropoff_datetime,Store_and_fwd_flag,RateCodeID,Pickup_longitude,Pickup_latitude,Dropoff_longitude,Dropoff_latitude,Passenger_count,Trip_distance,Fare_amount,Extra,MTA_tax,Tip_amount,Tolls_amount,Ehail_fee,improvement_surcharge,Total_amount,Payment_type,Trip_type ,PULocationID,DOLocationID']"
      ]
     },
     "execution_count": 4,
     "metadata": {},
     "output_type": "execute_result"
    }
   ],
   "source": [
    "nyc.take(1)"
   ]
  },
  {
   "cell_type": "code",
   "execution_count": 5,
   "metadata": {},
   "outputs": [
    {
     "data": {
      "text/plain": [
       "[(0, 'VendorID'),\n",
       " (1, 'lpep_pickup_datetime'),\n",
       " (2, 'Lpep_dropoff_datetime'),\n",
       " (3, 'Store_and_fwd_flag'),\n",
       " (4, 'RateCodeID'),\n",
       " (5, 'Pickup_longitude'),\n",
       " (6, 'Pickup_latitude'),\n",
       " (7, 'Dropoff_longitude'),\n",
       " (8, 'Dropoff_latitude'),\n",
       " (9, 'Passenger_count'),\n",
       " (10, 'Trip_distance'),\n",
       " (11, 'Fare_amount'),\n",
       " (12, 'Extra'),\n",
       " (13, 'MTA_tax'),\n",
       " (14, 'Tip_amount'),\n",
       " (15, 'Tolls_amount'),\n",
       " (16, 'Ehail_fee'),\n",
       " (17, 'improvement_surcharge'),\n",
       " (18, 'Total_amount'),\n",
       " (19, 'Payment_type'),\n",
       " (20, 'Trip_type '),\n",
       " (21, 'PULocationID'),\n",
       " (22, 'DOLocationID')]"
      ]
     },
     "execution_count": 5,
     "metadata": {},
     "output_type": "execute_result"
    }
   ],
   "source": [
    "list(enumerate(nyc.take(1)[0].split(',')))"
   ]
  },
  {
   "cell_type": "code",
   "execution_count": 6,
   "metadata": {},
   "outputs": [
    {
     "name": "stdout",
     "output_type": "stream",
     "text": [
      "9273822.949999934\n"
     ]
    }
   ],
   "source": [
    "#12 pm\n",
    "def filtertime(pId,lines):\n",
    "    import csv\n",
    "    if pId == 0:\n",
    "        lines.__next__()\n",
    "    reader = csv.reader(lines)\n",
    "    for row in csv.reader(lines):\n",
    "        if (row[1][11:22].startswith('12:') and row[18] != '' and\n",
    "           row[1][20] == 'P'):\n",
    "            yield(float(row[18].replace(',','')))\n",
    "        \n",
    "nyctaxitime = nyc.mapPartitionsWithIndex(filtertime).cache()\n",
    "t12p = nyctaxitime.reduce(lambda accum, n: accum + n)\n",
    "count12p = nyctaxitime.count()\n",
    "print(t12p)"
   ]
  },
  {
   "cell_type": "code",
   "execution_count": 7,
   "metadata": {},
   "outputs": [
    {
     "name": "stdout",
     "output_type": "stream",
     "text": [
      "9519388.909999903\n"
     ]
    }
   ],
   "source": [
    "#1 pm\n",
    "def filtertime(pId,lines):\n",
    "    import csv\n",
    "    if pId == 0:\n",
    "        lines.__next__()\n",
    "    reader = csv.reader(lines)\n",
    "    for row in csv.reader(lines):\n",
    "        if (row[1][11:22].startswith('01:') and row[18] != '' and\n",
    "           row[1][20] == 'P'):\n",
    "            yield(float(row[18].replace(',','')))\n",
    "        \n",
    "nyctaxitime = nyc.mapPartitionsWithIndex(filtertime).cache()\n",
    "t1p = nyctaxitime.reduce(lambda accum, n: accum + n)\n",
    "count1p = nyctaxitime.count()\n",
    "print(t1p)"
   ]
  },
  {
   "cell_type": "code",
   "execution_count": 8,
   "metadata": {},
   "outputs": [
    {
     "name": "stdout",
     "output_type": "stream",
     "text": [
      "10856748.139999479\n"
     ]
    }
   ],
   "source": [
    "#2 pm\n",
    "def filtertime(pId,lines):\n",
    "    import csv\n",
    "    if pId == 0:\n",
    "        lines.__next__()\n",
    "    reader = csv.reader(lines)\n",
    "    for row in csv.reader(lines):\n",
    "        if (row[1][11:22].startswith('02:') and row[18] != '' and\n",
    "           row[1][20] == 'P'):\n",
    "            yield(float(row[18].replace(',','')))\n",
    "        \n",
    "nyctaxitime = nyc.mapPartitionsWithIndex(filtertime).cache()\n",
    "t2p = nyctaxitime.reduce(lambda accum, n: accum + n)\n",
    "count2p = nyctaxitime.count()\n",
    "print(t2p)"
   ]
  },
  {
   "cell_type": "code",
   "execution_count": 9,
   "metadata": {},
   "outputs": [
    {
     "name": "stdout",
     "output_type": "stream",
     "text": [
      "12123410.609998945\n"
     ]
    }
   ],
   "source": [
    "#3 pm\n",
    "def filtertime(pId,lines):\n",
    "    import csv\n",
    "    if pId == 0:\n",
    "        lines.__next__()\n",
    "    reader = csv.reader(lines)\n",
    "    for row in csv.reader(lines):\n",
    "        if (row[1][11:22].startswith('03:') and row[18] != '' and\n",
    "           row[1][20] == 'P'):\n",
    "            yield(float(row[18].replace(',','')))\n",
    "        \n",
    "nyctaxitime = nyc.mapPartitionsWithIndex(filtertime).cache()\n",
    "t3p = nyctaxitime.reduce(lambda accum, n: accum + n)\n",
    "count3p = nyctaxitime.count()\n",
    "print(t3p)"
   ]
  },
  {
   "cell_type": "code",
   "execution_count": 10,
   "metadata": {},
   "outputs": [
    {
     "name": "stdout",
     "output_type": "stream",
     "text": [
      "13667218.229998233\n"
     ]
    }
   ],
   "source": [
    "#4 pm\n",
    "def filtertime(pId,lines):\n",
    "    import csv\n",
    "    if pId == 0:\n",
    "        lines.__next__()\n",
    "    reader = csv.reader(lines)\n",
    "    for row in csv.reader(lines):\n",
    "        if (row[1][11:22].startswith('04:') and row[18] != '' and\n",
    "           row[1][20] == 'P'):\n",
    "            yield(float(row[18].replace(',','')))\n",
    "        \n",
    "nyctaxitime = nyc.mapPartitionsWithIndex(filtertime).cache()\n",
    "t4p = nyctaxitime.reduce(lambda accum, n: accum + n)\n",
    "count4p = nyctaxitime.count()\n",
    "print(t4p)"
   ]
  },
  {
   "cell_type": "code",
   "execution_count": 11,
   "metadata": {},
   "outputs": [
    {
     "name": "stdout",
     "output_type": "stream",
     "text": [
      "14900438.749997588\n"
     ]
    }
   ],
   "source": [
    "#5 pm\n",
    "def filtertime(pId,lines):\n",
    "    import csv\n",
    "    if pId == 0:\n",
    "        lines.__next__()\n",
    "    reader = csv.reader(lines)\n",
    "    for row in csv.reader(lines):\n",
    "        if (row[1][11:22].startswith('05:') and row[18] != '' and\n",
    "           row[1][20] == 'P'):\n",
    "            yield(float(row[18].replace(',','')))\n",
    "        \n",
    "nyctaxitime = nyc.mapPartitionsWithIndex(filtertime).cache()\n",
    "t5p = nyctaxitime.reduce(lambda accum, n: accum + n)\n",
    "count5p = nyctaxitime.count()\n",
    "print(t5p)"
   ]
  },
  {
   "cell_type": "code",
   "execution_count": 12,
   "metadata": {},
   "outputs": [
    {
     "name": "stdout",
     "output_type": "stream",
     "text": [
      "15806946.549997067\n"
     ]
    }
   ],
   "source": [
    "#6 pm\n",
    "def filtertime(pId,lines):\n",
    "    import csv\n",
    "    if pId == 0:\n",
    "        lines.__next__()\n",
    "    reader = csv.reader(lines)\n",
    "    for row in csv.reader(lines):\n",
    "        if (row[1][11:22].startswith('06:') and row[18] != '' and\n",
    "           row[1][20] == 'P'):\n",
    "            yield(float(row[18].replace(',','')))\n",
    "        \n",
    "nyctaxitime = nyc.mapPartitionsWithIndex(filtertime).cache()\n",
    "t6p = nyctaxitime.reduce(lambda accum, n: accum + n)\n",
    "count6p = nyctaxitime.count()\n",
    "print(t6p)"
   ]
  },
  {
   "cell_type": "code",
   "execution_count": 13,
   "metadata": {},
   "outputs": [
    {
     "name": "stdout",
     "output_type": "stream",
     "text": [
      "15101534.629997391\n"
     ]
    }
   ],
   "source": [
    "#7 pm\n",
    "def filtertime(pId,lines):\n",
    "    import csv\n",
    "    if pId == 0:\n",
    "        lines.__next__()\n",
    "    reader = csv.reader(lines)\n",
    "    for row in csv.reader(lines):\n",
    "        if (row[1][11:22].startswith('07:') and row[18] != '' and\n",
    "           row[1][20] == 'P'):\n",
    "            yield(float(row[18].replace(',','')))\n",
    "        \n",
    "nyctaxitime = nyc.mapPartitionsWithIndex(filtertime).cache()\n",
    "t7p = nyctaxitime.reduce(lambda accum, n: accum + n)\n",
    "count7p = nyctaxitime.count()\n",
    "print(t7p)"
   ]
  },
  {
   "cell_type": "code",
   "execution_count": 14,
   "metadata": {},
   "outputs": [
    {
     "name": "stdout",
     "output_type": "stream",
     "text": [
      "13432020.319998266\n"
     ]
    }
   ],
   "source": [
    "#8 pm\n",
    "def filtertime(pId,lines):\n",
    "    import csv\n",
    "    if pId == 0:\n",
    "        lines.__next__()\n",
    "    reader = csv.reader(lines)\n",
    "    for row in csv.reader(lines):\n",
    "        if (row[1][11:22].startswith('08:') and row[18] != '' and\n",
    "           row[1][20] == 'P'):\n",
    "            yield(float(row[18].replace(',','')))\n",
    "        \n",
    "nyctaxitime = nyc.mapPartitionsWithIndex(filtertime).cache()\n",
    "t8p = nyctaxitime.reduce(lambda accum, n: accum + n)\n",
    "count8p = nyctaxitime.count()\n",
    "print(t8p)"
   ]
  },
  {
   "cell_type": "code",
   "execution_count": 15,
   "metadata": {},
   "outputs": [
    {
     "name": "stdout",
     "output_type": "stream",
     "text": [
      "13142861.739998478\n"
     ]
    }
   ],
   "source": [
    "#9 pm\n",
    "def filtertime(pId,lines):\n",
    "    import csv\n",
    "    if pId == 0:\n",
    "        lines.__next__()\n",
    "    reader = csv.reader(lines)\n",
    "    for row in csv.reader(lines):\n",
    "        if (row[1][11:22].startswith('09:') and row[18] != '' and\n",
    "           row[1][20] == 'P'):\n",
    "            yield(float(row[18].replace(',','')))\n",
    "        \n",
    "nyctaxitime = nyc.mapPartitionsWithIndex(filtertime).cache()\n",
    "t9p = nyctaxitime.reduce(lambda accum, n: accum + n)\n",
    "count9p = nyctaxitime.count()\n",
    "print(t9p)"
   ]
  },
  {
   "cell_type": "code",
   "execution_count": 16,
   "metadata": {},
   "outputs": [
    {
     "name": "stdout",
     "output_type": "stream",
     "text": [
      "13092491.909998598\n"
     ]
    }
   ],
   "source": [
    "#10 pm\n",
    "def filtertime(pId,lines):\n",
    "    import csv\n",
    "    if pId == 0:\n",
    "        lines.__next__()\n",
    "    reader = csv.reader(lines)\n",
    "    for row in csv.reader(lines):\n",
    "        if (row[1][11:22].startswith('10:') and row[18] != '' and\n",
    "           row[1][20] == 'P'):\n",
    "            yield(float(row[18].replace(',','')))\n",
    "        \n",
    "nyctaxitime = nyc.mapPartitionsWithIndex(filtertime).cache()\n",
    "t10p = nyctaxitime.reduce(lambda accum, n: accum + n)\n",
    "count10p = nyctaxitime.count()\n",
    "print(t10p)"
   ]
  },
  {
   "cell_type": "code",
   "execution_count": 17,
   "metadata": {},
   "outputs": [
    {
     "name": "stdout",
     "output_type": "stream",
     "text": [
      "12370204.979998844\n"
     ]
    }
   ],
   "source": [
    "#11 pm\n",
    "def filtertime(pId,lines):\n",
    "    import csv\n",
    "    if pId == 0:\n",
    "        lines.__next__()\n",
    "    reader = csv.reader(lines)\n",
    "    for row in csv.reader(lines):\n",
    "        if (row[1][11:22].startswith('11:') and row[18] != '' and\n",
    "           row[1][20] == 'P'):\n",
    "            yield(float(row[18].replace(',','')))\n",
    "        \n",
    "nyctaxitime = nyc.mapPartitionsWithIndex(filtertime).cache()\n",
    "t11p = nyctaxitime.reduce(lambda accum, n: accum + n)\n",
    "count11p = nyctaxitime.count()\n",
    "print(t11p)"
   ]
  },
  {
   "cell_type": "code",
   "execution_count": 18,
   "metadata": {},
   "outputs": [
    {
     "name": "stdout",
     "output_type": "stream",
     "text": [
      "10316790.159999467\n"
     ]
    }
   ],
   "source": [
    "#12 am\n",
    "def filtertime(pId,lines):\n",
    "    import csv\n",
    "    if pId == 0:\n",
    "        lines.__next__()\n",
    "    reader = csv.reader(lines)\n",
    "    for row in csv.reader(lines):\n",
    "        if (row[1][11:22].startswith('12:') and row[18] != '' and\n",
    "           row[1][20] == 'A'):\n",
    "            yield(float(row[18].replace(',','')))\n",
    "        \n",
    "nyctaxitime = nyc.mapPartitionsWithIndex(filtertime).cache()\n",
    "t12a = nyctaxitime.reduce(lambda accum, n: accum + n)\n",
    "count12a = nyctaxitime.count()\n",
    "print(t12a)"
   ]
  },
  {
   "cell_type": "code",
   "execution_count": 19,
   "metadata": {},
   "outputs": [
    {
     "name": "stdout",
     "output_type": "stream",
     "text": [
      "7957113.8700001305\n"
     ]
    }
   ],
   "source": [
    "#1 am\n",
    "def filtertime(pId,lines):\n",
    "    import csv\n",
    "    if pId == 0:\n",
    "        lines.__next__()\n",
    "    reader = csv.reader(lines)\n",
    "    for row in csv.reader(lines):\n",
    "        if (row[1][11:22].startswith('01:') and row[18] != '' and\n",
    "           row[1][20] == 'A'):\n",
    "            yield(float(row[18].replace(',','')))\n",
    "        \n",
    "nyctaxitime = nyc.mapPartitionsWithIndex(filtertime).cache()\n",
    "t1a = nyctaxitime.reduce(lambda accum, n: accum + n)\n",
    "count1a = nyctaxitime.count()\n",
    "print(t1a)"
   ]
  },
  {
   "cell_type": "code",
   "execution_count": 20,
   "metadata": {},
   "outputs": [
    {
     "name": "stdout",
     "output_type": "stream",
     "text": [
      "5941217.930000359\n"
     ]
    }
   ],
   "source": [
    "#2 am\n",
    "def filtertime(pId,lines):\n",
    "    import csv\n",
    "    if pId == 0:\n",
    "        lines.__next__()\n",
    "    reader = csv.reader(lines)\n",
    "    for row in csv.reader(lines):\n",
    "        if (row[1][11:22].startswith('02:') and row[18] != '' and\n",
    "           row[1][20] == 'A'):\n",
    "            yield(float(row[18].replace(',','')))\n",
    "        \n",
    "nyctaxitime = nyc.mapPartitionsWithIndex(filtertime).cache()\n",
    "t2a = nyctaxitime.reduce(lambda accum, n: accum + n)\n",
    "count2a = nyctaxitime.count()\n",
    "print(t2a)"
   ]
  },
  {
   "cell_type": "code",
   "execution_count": 21,
   "metadata": {},
   "outputs": [
    {
     "name": "stdout",
     "output_type": "stream",
     "text": [
      "4774445.330000281\n"
     ]
    }
   ],
   "source": [
    "#3 am\n",
    "def filtertime(pId,lines):\n",
    "    import csv\n",
    "    if pId == 0:\n",
    "        lines.__next__()\n",
    "    reader = csv.reader(lines)\n",
    "    for row in csv.reader(lines):\n",
    "        if (row[1][11:22].startswith('03:') and row[18] != '' and\n",
    "           row[1][20] == 'A'):\n",
    "            yield(float(row[18].replace(',','')))\n",
    "        \n",
    "nyctaxitime = nyc.mapPartitionsWithIndex(filtertime).cache()\n",
    "t3a = nyctaxitime.reduce(lambda accum, n: accum + n)\n",
    "count3a = nyctaxitime.count()\n",
    "print(t3a)"
   ]
  },
  {
   "cell_type": "code",
   "execution_count": 22,
   "metadata": {},
   "outputs": [
    {
     "name": "stdout",
     "output_type": "stream",
     "text": [
      "4161996.3900002018\n"
     ]
    }
   ],
   "source": [
    "#4 am\n",
    "def filtertime(pId,lines):\n",
    "    import csv\n",
    "    if pId == 0:\n",
    "        lines.__next__()\n",
    "    reader = csv.reader(lines)\n",
    "    for row in csv.reader(lines):\n",
    "        if (row[1][11:22].startswith('04:') and row[18] != '' and\n",
    "           row[1][20] == 'A'):\n",
    "            yield(float(row[18].replace(',','')))\n",
    "        \n",
    "nyctaxitime = nyc.mapPartitionsWithIndex(filtertime).cache()\n",
    "t4a = nyctaxitime.reduce(lambda accum, n: accum + n)\n",
    "count4a = nyctaxitime.count()\n",
    "print(t4a)"
   ]
  },
  {
   "cell_type": "code",
   "execution_count": 23,
   "metadata": {},
   "outputs": [
    {
     "name": "stdout",
     "output_type": "stream",
     "text": [
      "3203567.770000064\n"
     ]
    }
   ],
   "source": [
    "#5 am\n",
    "def filtertime(pId,lines):\n",
    "    import csv\n",
    "    if pId == 0:\n",
    "        lines.__next__()\n",
    "    reader = csv.reader(lines)\n",
    "    for row in csv.reader(lines):\n",
    "        if (row[1][11:22].startswith('05:') and row[18] != '' and\n",
    "           row[1][20] == 'A'):\n",
    "            yield(float(row[18].replace(',','')))\n",
    "        \n",
    "nyctaxitime = nyc.mapPartitionsWithIndex(filtertime).cache()\n",
    "t5a = nyctaxitime.reduce(lambda accum, n: accum + n)\n",
    "count5a = nyctaxitime.count()\n",
    "print(t5a)"
   ]
  },
  {
   "cell_type": "code",
   "execution_count": 24,
   "metadata": {},
   "outputs": [
    {
     "name": "stdout",
     "output_type": "stream",
     "text": [
      "4235012.170000158\n"
     ]
    }
   ],
   "source": [
    "#6 am\n",
    "def filtertime(pId,lines):\n",
    "    import csv\n",
    "    if pId == 0:\n",
    "        lines.__next__()\n",
    "    reader = csv.reader(lines)\n",
    "    for row in csv.reader(lines):\n",
    "        if (row[1][11:22].startswith('06:') and row[18] != '' and\n",
    "           row[1][20] == 'A'):\n",
    "            yield(float(row[18].replace(',','')))\n",
    "        \n",
    "nyctaxitime = nyc.mapPartitionsWithIndex(filtertime).cache()\n",
    "t6a = nyctaxitime.reduce(lambda accum, n: accum + n)\n",
    "count6a = nyctaxitime.count()\n",
    "print(t6a)"
   ]
  },
  {
   "cell_type": "code",
   "execution_count": 25,
   "metadata": {},
   "outputs": [
    {
     "name": "stdout",
     "output_type": "stream",
     "text": [
      "7125909.5800003745\n"
     ]
    }
   ],
   "source": [
    "#7 am\n",
    "def filtertime(pId,lines):\n",
    "    import csv\n",
    "    if pId == 0:\n",
    "        lines.__next__()\n",
    "    reader = csv.reader(lines)\n",
    "    for row in csv.reader(lines):\n",
    "        if (row[1][11:22].startswith('07:') and row[18] != '' and\n",
    "           row[1][20] == 'A'):\n",
    "            yield(float(row[18].replace(',','')))\n",
    "        \n",
    "nyctaxitime = nyc.mapPartitionsWithIndex(filtertime).cache()\n",
    "t7a = nyctaxitime.reduce(lambda accum, n: accum + n)\n",
    "count7a = nyctaxitime.count()\n",
    "print(t7a)"
   ]
  },
  {
   "cell_type": "code",
   "execution_count": 26,
   "metadata": {},
   "outputs": [
    {
     "name": "stdout",
     "output_type": "stream",
     "text": [
      "10194343.829999674\n"
     ]
    }
   ],
   "source": [
    "#8 am\n",
    "def filtertime(pId,lines):\n",
    "    import csv\n",
    "    if pId == 0:\n",
    "        lines.__next__()\n",
    "    reader = csv.reader(lines)\n",
    "    for row in csv.reader(lines):\n",
    "        if (row[1][11:22].startswith('08:') and row[18] != '' and\n",
    "           row[1][20] == 'A'):\n",
    "            yield(float(row[18].replace(',','')))\n",
    "        \n",
    "nyctaxitime = nyc.mapPartitionsWithIndex(filtertime).cache()\n",
    "t8a = nyctaxitime.reduce(lambda accum, n: accum + n)\n",
    "count8a = nyctaxitime.count()\n",
    "print(t8a)"
   ]
  },
  {
   "cell_type": "code",
   "execution_count": 27,
   "metadata": {},
   "outputs": [
    {
     "name": "stdout",
     "output_type": "stream",
     "text": [
      "10300341.749999668\n"
     ]
    }
   ],
   "source": [
    "#9 am\n",
    "def filtertime(pId,lines):\n",
    "    import csv\n",
    "    if pId == 0:\n",
    "        lines.__next__()\n",
    "    reader = csv.reader(lines)\n",
    "    for row in csv.reader(lines):\n",
    "        if (row[1][11:22].startswith('09:') and row[18] != '' and\n",
    "           row[1][20] == 'A'):\n",
    "            yield(float(row[18].replace(',','')))\n",
    "        \n",
    "nyctaxitime = nyc.mapPartitionsWithIndex(filtertime).cache()\n",
    "t9a = nyctaxitime.reduce(lambda accum, n: accum + n)\n",
    "count9a = nyctaxitime.count()\n",
    "print(t9a)"
   ]
  },
  {
   "cell_type": "code",
   "execution_count": 29,
   "metadata": {},
   "outputs": [
    {
     "name": "stdout",
     "output_type": "stream",
     "text": [
      "9251552.29999994\n"
     ]
    }
   ],
   "source": [
    "#10 am\n",
    "def filtertime(pId,lines):\n",
    "    import csv\n",
    "    if pId == 0:\n",
    "        lines.__next__()\n",
    "    reader = csv.reader(lines)\n",
    "    for row in csv.reader(lines):\n",
    "        if (row[1][11:22].startswith('10:') and row[18] != '' and\n",
    "           row[1][20] == 'A'):\n",
    "            yield(float(row[18].replace(',','')))\n",
    "        \n",
    "nyctaxitime = nyc.mapPartitionsWithIndex(filtertime).cache()\n",
    "t10a = nyctaxitime.reduce(lambda accum, n: accum + n)\n",
    "count10a = nyctaxitime.count()\n",
    "print(t10a)"
   ]
  },
  {
   "cell_type": "code",
   "execution_count": 30,
   "metadata": {},
   "outputs": [
    {
     "name": "stdout",
     "output_type": "stream",
     "text": [
      "9153677.499999993\n"
     ]
    }
   ],
   "source": [
    "#11 am\n",
    "def filtertime(pId,lines):\n",
    "    import csv\n",
    "    if pId == 0:\n",
    "        lines.__next__()\n",
    "    reader = csv.reader(lines)\n",
    "    for row in csv.reader(lines):\n",
    "        if (row[1][11:22].startswith('11:') and row[18] != '' and\n",
    "           row[1][20] == 'A'):\n",
    "            yield(float(row[18].replace(',','')))\n",
    "        \n",
    "nyctaxitime = nyc.mapPartitionsWithIndex(filtertime).cache()\n",
    "t11a = nyctaxitime.reduce(lambda accum, n: accum + n)\n",
    "count11a = nyctaxitime.count()\n",
    "print(t11a)"
   ]
  },
  {
   "cell_type": "code",
   "execution_count": 33,
   "metadata": {},
   "outputs": [
    {
     "data": {
      "text/plain": [
       "[('1', 14.321942785044575),\n",
       " ('2', 14.465231956253735),\n",
       " ('3', 14.920841070676067),\n",
       " ('4', 15.816180970405254),\n",
       " ('5', 17.995650857493096),\n",
       " ('6', 17.488993198515644),\n",
       " ('7', 15.649817343275554),\n",
       " ('8', 15.248233633829885),\n",
       " ('9', 15.06140132184952),\n",
       " ('10', 14.542144394197226),\n",
       " ('11', 14.412085386033597),\n",
       " ('12', 14.38118616811753),\n",
       " ('13', 14.412288945579371),\n",
       " ('14', 14.498339589784395),\n",
       " ('15', 14.600203779327911),\n",
       " ('16', 15.121297299627736),\n",
       " ('17', 14.814602940559983),\n",
       " ('18', 14.299054099037198),\n",
       " ('19', 13.910529043796572),\n",
       " ('20', 13.765320013484773),\n",
       " ('21', 14.12096446460372),\n",
       " ('22', 14.631310756155768),\n",
       " ('23', 14.723437228848464),\n",
       " ('24', 14.530117347484138)]"
      ]
     },
     "execution_count": 33,
     "metadata": {},
     "output_type": "execute_result"
    }
   ],
   "source": [
    "def getaveragefareperhour():\n",
    "    from operator import itemgetter\n",
    "    timedict = {'1':0, '2':0, '3':0, '4':0, '5':0,'6':0,\n",
    "                 '7':0, '8':0, '9':0, '10':0, '11':0, '12':0,\n",
    "                 '13':0,'14':0, '15':0, '16':0, '17':0, '18':0,\n",
    "                 '19':0, '20':0, '21':0, '22':0, '23':0, '24':0}\n",
    "    \n",
    "    timedict['1'] = t1a/count1a\n",
    "    timedict['2'] = t2a/count2a\n",
    "    timedict['3'] = t3a/count3a\n",
    "    timedict['4'] = t4a/count4a\n",
    "    timedict['5'] = t5a/count5a\n",
    "    timedict['6'] = t6a/count6a\n",
    "    timedict['7'] = t7a/count7a\n",
    "    timedict['8'] = t8a/count8a\n",
    "    timedict['9'] = t9a/count9a\n",
    "    timedict['10'] = t10a/count10a\n",
    "    timedict['11'] = t11a/count11a\n",
    "    timedict['12'] = t12p/count12p\n",
    "    timedict['13'] = t1p/count1p\n",
    "    timedict['14'] = t2p/count2p\n",
    "    timedict['15'] = t3p/count3p\n",
    "    timedict['16'] = t4p/count4p\n",
    "    timedict['17'] = t5p/count5p\n",
    "    timedict['18'] = t6p/count6p\n",
    "    timedict['19'] = t7p/count7p\n",
    "    timedict['20'] = t8p/count8p\n",
    "    timedict['21'] = t9p/count9p\n",
    "    timedict['22'] = t10p/count10p\n",
    "    timedict['23'] = t11p/count11p\n",
    "    timedict['24'] = t12a/count12a\n",
    "    \n",
    "    l = []\n",
    "    for key,value in timedict.items():\n",
    "        l.append((key,value))\n",
    "        \n",
    "    #l = (l,key=itemgetter(0))\n",
    "    return l\n",
    "\n",
    "    print(timedict)\n",
    "getaveragefareperhour()\n",
    "    "
   ]
  },
  {
   "cell_type": "code",
   "execution_count": 34,
   "metadata": {},
   "outputs": [
    {
     "name": "stdout",
     "output_type": "stream",
     "text": [
      "['1', '2', '3', '4', '5', '6', '7', '8', '9', '10', '11', '12', '13', '14', '15', '16', '17', '18', '19', '20', '21', '22', '23', '24']\n",
      "[14.321942785044575, 14.465231956253735, 14.920841070676067, 15.816180970405254, 17.995650857493096, 17.488993198515644, 15.649817343275554, 15.248233633829885, 15.06140132184952, 14.542144394197226, 14.412085386033597, 14.38118616811753, 14.412288945579371, 14.498339589784395, 14.600203779327911, 15.121297299627736, 14.814602940559983, 14.299054099037198, 13.910529043796572, 13.765320013484773, 14.12096446460372, 14.631310756155768, 14.723437228848464, 14.530117347484138]\n"
     ]
    },
    {
     "data": {
      "image/png": "[encoded data removed]",
      "text/plain": [
       "<matplotlib.figure.Figure at 0x22c7fe5d550>"
      ]
     },
     "metadata": {},
     "output_type": "display_data"
    }
   ],
   "source": [
    "import matplotlib.pyplot as plt\n",
    "import numpy as np\n",
    "import pandas as pd\n",
    "averagetaxitime = getaveragefareperhour()\n",
    "x = [i[0] for i in averagetaxitime]\n",
    "y = [float(i[1]) for i in averagetaxitime]\n",
    "print (x)\n",
    "print (y)\n",
    "plt.plot(x,y)\n",
    "plt.show()"
   ]
  },
  {
   "cell_type": "code",
   "execution_count": 47,
   "metadata": {
    "collapsed": true
   },
   "outputs": [],
   "source": [
    "def nyccashcredit(pId,lines):\n",
    "    import csv\n",
    "    if pId == 0:\n",
    "        lines.__next__()\n",
    "    reader = csv.reader(lines)\n",
    "    for row in csv.reader(lines):\n",
    "        if (row[19] == '1' or row[19] == '2'):\n",
    "            yield(row[19])\n",
    "\n",
    "nyccashorcredit = nyc.mapPartitionsWithIndex(nyccashcredit).cache()\n",
    "nyccashorcredit.take(5)\n",
    "nyccashcreditcount = nyccashorcredit.count()"
   ]
  },
  {
   "cell_type": "code",
   "execution_count": 50,
   "metadata": {},
   "outputs": [
    {
     "data": {
      "text/plain": [
       "[('Cash', 50.09628080208019), ('Credit', 49.90371919791981)]"
      ]
     },
     "execution_count": 50,
     "metadata": {},
     "output_type": "execute_result"
    }
   ],
   "source": [
    "def dictcashorcredit():\n",
    "    dict = {'Cash':0,'Credit':0}\n",
    "    for row in nyccashorcredit.collect():\n",
    "        if (row == '2'):\n",
    "            dict['Cash'] += 1\n",
    "        elif (row == '1'):\n",
    "            dict['Credit'] += 1\n",
    "            \n",
    "    l = []\n",
    "    for key,value in dict.items():\n",
    "        l.append((key,(float(value)/nyccashcreditcount) * 100))\n",
    "    \n",
    "    return l\n",
    "\n",
    "getcashorcredit = dictcashorcredit()\n",
    "getcashorcredit"
   ]
  },
  {
   "cell_type": "code",
   "execution_count": 42,
   "metadata": {},
   "outputs": [
    {
     "name": "stdout",
     "output_type": "stream",
     "text": [
      "239903056.2993615\n"
     ]
    }
   ],
   "source": [
    "def filterallfares(pId,lines):\n",
    "    import csv\n",
    "    if pId == 0:\n",
    "        lines.__next__()\n",
    "    reader = csv.reader(lines)\n",
    "    for row in csv.reader(lines):\n",
    "        yield(float(row[18].replace(',','')))\n",
    "\n",
    "alltaxifare = nyc.mapPartitionsWithIndex(filterallfares).cache()\n",
    "totalfare = alltaxifare.reduce(lambda accum, n: accum + n)\n",
    "print(totalfare)\n",
    "countfare = alltaxifare.count()"
   ]
  },
  {
   "cell_type": "code",
   "execution_count": 44,
   "metadata": {},
   "outputs": [
    {
     "name": "stdout",
     "output_type": "stream",
     "text": [
      "14.641151492631518\n"
     ]
    }
   ],
   "source": [
    "averagefare = totalfare/countfare\n",
    "print(averagefare)"
   ]
  },
  {
   "cell_type": "code",
   "execution_count": null,
   "metadata": {
    "collapsed": true
   },
   "outputs": [],
   "source": [
    "nyctaxicountperhour = [('1',555589),\n",
    "                       ('2',410724),\n",
    "                       ('3',319985),\n",
    "                       ('4',263148),\n",
    "                       ('5',178019),\n",
    "                       ('6',242153),\n",
    "                       ('7',455335),\n",
    "                       ('8',668559),\n",
    "                       ('9',683890),\n",
    "                       ('10',636189),\n",
    "                       ('11',635139),\n",
    "                       ('12',710028),\n",
    "                       ('13',660505),\n",
    "                       ('14',748827),\n",
    "                       ('15',830359),\n",
    "                       ('16',903839),\n",
    "                       ('17',1005794),\n",
    "                       ('18',1105454),\n",
    "                       ('19',1085619),\n",
    "                       ('20',975787),\n",
    "                       ('21',930734),\n",
    "                       ('22',894827),\n",
    "                       ('23',840171),\n",
    "                       ('24',644858)]\n",
    "\n",
    "chicagotaxicountperhour = [\n",
    "    ('1',356904),\n",
    "    ('2',282148),\n",
    "    ('3',216182),\n",
    "    ('4',149836),\n",
    "    ('5',120539),\n",
    "    ('6',149840),\n",
    "    ('7',278180),\n",
    "    ('8',481385),\n",
    "    ('9',596852),\n",
    "    ('10',571387),\n",
    "    ('11',577669),\n",
    "    ('12',235028),\n",
    "    ('13',243864),\n",
    "    ('14',240679),\n",
    "    ('15',241741),\n",
    "    ('16',259264),\n",
    "    ('17',283844),\n",
    "    ('18',310502),\n",
    "    ('19',311555),\n",
    "    ('20',275354),\n",
    "    ('21',239085),\n",
    "    ('22',223206),\n",
    "    ('23',191726),\n",
    "    ('24',436020)]"
   ]
  },
  {
   "cell_type": "code",
   "execution_count": null,
   "metadata": {
    "collapsed": true
   },
   "outputs": [],
   "source": []
  },
  {
   "cell_type": "code",
   "execution_count": null,
   "metadata": {
    "collapsed": true
   },
   "outputs": [],
   "source": []
  }
 ],
 "metadata": {
  "kernelspec": {
   "display_name": "Python 3",
   "language": "python",
   "name": "python3"
  },
  "language_info": {
   "codemirror_mode": {
    "name": "ipython",
    "version": 3
   },
   "file_extension": ".py",
   "mimetype": "text/x-python",
   "name": "python",
   "nbconvert_exporter": "python",
   "pygments_lexer": "ipython3",
   "version": "3.6.1"
  }
 },
 "nbformat": 4,
 "nbformat_minor": 2
}
