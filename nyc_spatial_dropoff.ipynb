{
 "cells": [
  {
   "cell_type": "code",
   "execution_count": 1,
   "metadata": {},
   "outputs": [
    {
     "data": {
      "text/plain": [
       "<pyspark.context.SparkContext at 0x5ca76a0>"
      ]
     },
     "execution_count": 1,
     "metadata": {},
     "output_type": "execute_result"
    }
   ],
   "source": [
    "sc"
   ]
  },
  {
   "cell_type": "code",
   "execution_count": 2,
   "metadata": {
    "collapsed": true
   },
   "outputs": [],
   "source": [
    "import matplotlib\n",
    "import matplotlib.pyplot as plt\n",
    "%matplotlib inline  \n",
    "\n",
    "import seaborn as sns\n",
    "sns.set(style=\"whitegrid\")\n",
    "\n",
    "import fiona\n",
    "import fiona.crs\n",
    "import shapely\n",
    "import rtree\n",
    "\n",
    "import pandas as pd\n",
    "import geopandas as gpd\n"
   ]
  },
  {
   "cell_type": "code",
   "execution_count": 3,
   "metadata": {
    "collapsed": true
   },
   "outputs": [],
   "source": [
    "shapefile = 'geo_export_f3f1c046-b582-4f97-980f-48e4f9bcfb7f.shp'\n",
    "boros = gpd.read_file(shapefile).to_crs(fiona.crs.from_epsg(2263))"
   ]
  },
  {
   "cell_type": "code",
   "execution_count": 6,
   "metadata": {},
   "outputs": [
    {
     "data": {
      "text/plain": [
       "4"
      ]
     },
     "execution_count": 6,
     "metadata": {},
     "output_type": "execute_result"
    }
   ],
   "source": [
    "def createIndex(shapefile):\n",
    "    import rtree\n",
    "    import fiona.crs\n",
    "    import geopandas as gpd\n",
    "    zones = gpd.read_file(shapefile).to_crs(fiona.crs.from_epsg(2263))\n",
    "    index = rtree.Rtree()\n",
    "    for idx,geometry in enumerate(zones.geometry):\n",
    "        index.insert(idx, geometry.bounds)\n",
    "    return (index, zones)\n",
    "\n",
    "def findZone(p, index, zones):\n",
    "    match = index.intersection((p.x, p.y, p.x, p.y))\n",
    "    for idx in match:\n",
    "        if zones.geometry[idx].contains(p):\n",
    "            return idx\n",
    "    return None\n",
    "\n",
    "def processTrips(pid, records):\n",
    "    import csv\n",
    "    import pyproj\n",
    "    import shapely.geometry as geom\n",
    "    \n",
    "    proj = pyproj.Proj(init=\"epsg:2263\", preserve_units=True)    \n",
    "    index, zones = createIndex('geo_export_f3f1c046-b582-4f97-980f-48e4f9bcfb7f.shp')    \n",
    "    \n",
    "    if pid==0:\n",
    "        records.next()\n",
    "    reader = csv.reader(records)\n",
    "    counts = {}\n",
    "    \n",
    "    for row in reader:\n",
    "#         pdt = row[0].split(' ')[1].split(':')[0]\n",
    "#         if pdt!='10':\n",
    "#             continue\n",
    "        p = geom.Point(proj(float(row[7]), float(row[8])))\n",
    "        zone = findZone(p, index, zones)\n",
    "        if zone:\n",
    "            counts[zone] = counts.get(zone, 0) + 1\n",
    "    return counts.items()\n",
    "            \n",
    "rdd = sc.textFile('1klines.csv')\n",
    "counts = rdd.mapPartitionsWithIndex(processTrips)\n",
    "counts = counts.reduceByKey(lambda x,y: x+y)\n",
    "# counts.collect()\n",
    "counts = counts.collect()\n",
    "len(counts)\n"
   ]
  },
  {
   "cell_type": "code",
   "execution_count": 7,
   "metadata": {},
   "outputs": [
    {
     "data": {
      "image/png": "[encoded data removed]",
      "text/plain": [
       "<matplotlib.figure.Figure at 0xd2d63c8>"
      ]
     },
     "metadata": {},
     "output_type": "display_data"
    }
   ],
   "source": [
    "countsPerBoro = map(lambda x: (boros['boro_name'][x[0]], x[1]), counts)\n",
    "df = pd.DataFrame(countsPerBoro).sort_values(1).set_index(0)\n",
    "df.plot(kind='barh', title='Green Taxi Dropoff Trips per Borough', figsize=(8,8), fontsize=12, legend=False)\n",
    "plt.axes().yaxis.grid(False)"
   ]
  }
 ],
 "metadata": {
  "kernelspec": {
   "display_name": "Python 2",
   "language": "python",
   "name": "python2"
  },
  "language_info": {
   "codemirror_mode": {
    "name": "ipython",
    "version": 2
   },
   "file_extension": ".py",
   "mimetype": "text/x-python",
   "name": "python",
   "nbconvert_exporter": "python",
   "pygments_lexer": "ipython2",
   "version": "2.7.14"
  }
 },
 "nbformat": 4,
 "nbformat_minor": 2
}
